{
  "cells": [
    {
      "cell_type": "code",
      "execution_count": null,
      "metadata": {
        "id": "zBb8-TVSTqfl"
      },
      "outputs": [],
      "source": [
        "# Предварительно импортируем необходимые библиотеки\n",
        "import pandas as pd\n",
        "import datetime\n",
        "import requests\n",
        "\n",
        "from sklearn.linear_model import LogisticRegression\n",
        "from sklearn.svm import SVC, LinearSVC\n",
        "from sklearn.ensemble import RandomForestClassifier\n",
        "from sklearn.neighbors import KNeighborsClassifier\n",
        "from sklearn.model_selection import train_test_split\n",
        "from sklearn.metrics import accuracy_score, confusion_matrix\n",
        "import pickle\n",
        "\n",
        "import tensorflow as tf\n",
        "from tensorflow import keras\n",
        "from tensorflow.keras import layers\n",
        "\n",
        "\n",
        "import numpy as np\n",
        "import os\n",
        "\n",
        "np.random.seed(42)\n",
        "\n",
        "%matplotlib inline\n",
        "import matplotlib\n",
        "import matplotlib.pyplot as plt\n"
      ]
    },
    {
      "cell_type": "code",
      "execution_count": 16,
      "metadata": {
        "id": "TPCq5TAOTqfn"
      },
      "outputs": [],
      "source": [
        "import requests#Чтение данных\n",
        "#file_n = ('https://github.com/HMelhoff/ML/blob/bf79122a53ab71f221f448d599ca596a1a864246/dataset/MLTempDataset1.csv')\n",
        "#txt = file_n.content\n",
        "temp_data = pd.read_csv(\"/dataset/MLTempDataset1.csv\")"
      ]
    },
    {
      "cell_type": "code",
      "execution_count": 17,
      "metadata": {
        "id": "52YrK3GyTqfo",
        "outputId": "109616a1-937f-42a2-f9ab-6709de577558",
        "colab": {
          "base_uri": "https://localhost:8080/",
          "height": 424
        }
      },
      "outputs": [
        {
          "output_type": "execute_result",
          "data": {
            "text/plain": [
              "      Unnamed: 0             Datetime  Hourly_Temp\n",
              "0              0  2022-01-04 00:00:00       20.867\n",
              "1              1  2022-01-04 01:00:00       21.000\n",
              "2              2  2022-01-04 02:00:00       20.867\n",
              "3              3  2022-01-04 03:00:00       20.650\n",
              "4              4  2022-01-04 04:00:00       20.400\n",
              "...          ...                  ...          ...\n",
              "7051        7051  2022-10-24 19:00:00       25.567\n",
              "7052        7052  2022-10-24 20:00:00       25.183\n",
              "7053        7053  2022-10-24 21:00:00       24.600\n",
              "7054        7054  2022-10-24 22:00:00       23.986\n",
              "7055        7055  2022-10-24 23:00:00       23.383\n",
              "\n",
              "[7056 rows x 3 columns]"
            ],
            "text/html": [
              "\n",
              "  <div id=\"df-68271e5b-39de-4ec4-ae45-e892769baa58\">\n",
              "    <div class=\"colab-df-container\">\n",
              "      <div>\n",
              "<style scoped>\n",
              "    .dataframe tbody tr th:only-of-type {\n",
              "        vertical-align: middle;\n",
              "    }\n",
              "\n",
              "    .dataframe tbody tr th {\n",
              "        vertical-align: top;\n",
              "    }\n",
              "\n",
              "    .dataframe thead th {\n",
              "        text-align: right;\n",
              "    }\n",
              "</style>\n",
              "<table border=\"1\" class=\"dataframe\">\n",
              "  <thead>\n",
              "    <tr style=\"text-align: right;\">\n",
              "      <th></th>\n",
              "      <th>Unnamed: 0</th>\n",
              "      <th>Datetime</th>\n",
              "      <th>Hourly_Temp</th>\n",
              "    </tr>\n",
              "  </thead>\n",
              "  <tbody>\n",
              "    <tr>\n",
              "      <th>0</th>\n",
              "      <td>0</td>\n",
              "      <td>2022-01-04 00:00:00</td>\n",
              "      <td>20.867</td>\n",
              "    </tr>\n",
              "    <tr>\n",
              "      <th>1</th>\n",
              "      <td>1</td>\n",
              "      <td>2022-01-04 01:00:00</td>\n",
              "      <td>21.000</td>\n",
              "    </tr>\n",
              "    <tr>\n",
              "      <th>2</th>\n",
              "      <td>2</td>\n",
              "      <td>2022-01-04 02:00:00</td>\n",
              "      <td>20.867</td>\n",
              "    </tr>\n",
              "    <tr>\n",
              "      <th>3</th>\n",
              "      <td>3</td>\n",
              "      <td>2022-01-04 03:00:00</td>\n",
              "      <td>20.650</td>\n",
              "    </tr>\n",
              "    <tr>\n",
              "      <th>4</th>\n",
              "      <td>4</td>\n",
              "      <td>2022-01-04 04:00:00</td>\n",
              "      <td>20.400</td>\n",
              "    </tr>\n",
              "    <tr>\n",
              "      <th>...</th>\n",
              "      <td>...</td>\n",
              "      <td>...</td>\n",
              "      <td>...</td>\n",
              "    </tr>\n",
              "    <tr>\n",
              "      <th>7051</th>\n",
              "      <td>7051</td>\n",
              "      <td>2022-10-24 19:00:00</td>\n",
              "      <td>25.567</td>\n",
              "    </tr>\n",
              "    <tr>\n",
              "      <th>7052</th>\n",
              "      <td>7052</td>\n",
              "      <td>2022-10-24 20:00:00</td>\n",
              "      <td>25.183</td>\n",
              "    </tr>\n",
              "    <tr>\n",
              "      <th>7053</th>\n",
              "      <td>7053</td>\n",
              "      <td>2022-10-24 21:00:00</td>\n",
              "      <td>24.600</td>\n",
              "    </tr>\n",
              "    <tr>\n",
              "      <th>7054</th>\n",
              "      <td>7054</td>\n",
              "      <td>2022-10-24 22:00:00</td>\n",
              "      <td>23.986</td>\n",
              "    </tr>\n",
              "    <tr>\n",
              "      <th>7055</th>\n",
              "      <td>7055</td>\n",
              "      <td>2022-10-24 23:00:00</td>\n",
              "      <td>23.383</td>\n",
              "    </tr>\n",
              "  </tbody>\n",
              "</table>\n",
              "<p>7056 rows × 3 columns</p>\n",
              "</div>\n",
              "      <button class=\"colab-df-convert\" onclick=\"convertToInteractive('df-68271e5b-39de-4ec4-ae45-e892769baa58')\"\n",
              "              title=\"Convert this dataframe to an interactive table.\"\n",
              "              style=\"display:none;\">\n",
              "        \n",
              "  <svg xmlns=\"http://www.w3.org/2000/svg\" height=\"24px\"viewBox=\"0 0 24 24\"\n",
              "       width=\"24px\">\n",
              "    <path d=\"M0 0h24v24H0V0z\" fill=\"none\"/>\n",
              "    <path d=\"M18.56 5.44l.94 2.06.94-2.06 2.06-.94-2.06-.94-.94-2.06-.94 2.06-2.06.94zm-11 1L8.5 8.5l.94-2.06 2.06-.94-2.06-.94L8.5 2.5l-.94 2.06-2.06.94zm10 10l.94 2.06.94-2.06 2.06-.94-2.06-.94-.94-2.06-.94 2.06-2.06.94z\"/><path d=\"M17.41 7.96l-1.37-1.37c-.4-.4-.92-.59-1.43-.59-.52 0-1.04.2-1.43.59L10.3 9.45l-7.72 7.72c-.78.78-.78 2.05 0 2.83L4 21.41c.39.39.9.59 1.41.59.51 0 1.02-.2 1.41-.59l7.78-7.78 2.81-2.81c.8-.78.8-2.07 0-2.86zM5.41 20L4 18.59l7.72-7.72 1.47 1.35L5.41 20z\"/>\n",
              "  </svg>\n",
              "      </button>\n",
              "      \n",
              "  <style>\n",
              "    .colab-df-container {\n",
              "      display:flex;\n",
              "      flex-wrap:wrap;\n",
              "      gap: 12px;\n",
              "    }\n",
              "\n",
              "    .colab-df-convert {\n",
              "      background-color: #E8F0FE;\n",
              "      border: none;\n",
              "      border-radius: 50%;\n",
              "      cursor: pointer;\n",
              "      display: none;\n",
              "      fill: #1967D2;\n",
              "      height: 32px;\n",
              "      padding: 0 0 0 0;\n",
              "      width: 32px;\n",
              "    }\n",
              "\n",
              "    .colab-df-convert:hover {\n",
              "      background-color: #E2EBFA;\n",
              "      box-shadow: 0px 1px 2px rgba(60, 64, 67, 0.3), 0px 1px 3px 1px rgba(60, 64, 67, 0.15);\n",
              "      fill: #174EA6;\n",
              "    }\n",
              "\n",
              "    [theme=dark] .colab-df-convert {\n",
              "      background-color: #3B4455;\n",
              "      fill: #D2E3FC;\n",
              "    }\n",
              "\n",
              "    [theme=dark] .colab-df-convert:hover {\n",
              "      background-color: #434B5C;\n",
              "      box-shadow: 0px 1px 3px 1px rgba(0, 0, 0, 0.15);\n",
              "      filter: drop-shadow(0px 1px 2px rgba(0, 0, 0, 0.3));\n",
              "      fill: #FFFFFF;\n",
              "    }\n",
              "  </style>\n",
              "\n",
              "      <script>\n",
              "        const buttonEl =\n",
              "          document.querySelector('#df-68271e5b-39de-4ec4-ae45-e892769baa58 button.colab-df-convert');\n",
              "        buttonEl.style.display =\n",
              "          google.colab.kernel.accessAllowed ? 'block' : 'none';\n",
              "\n",
              "        async function convertToInteractive(key) {\n",
              "          const element = document.querySelector('#df-68271e5b-39de-4ec4-ae45-e892769baa58');\n",
              "          const dataTable =\n",
              "            await google.colab.kernel.invokeFunction('convertToInteractive',\n",
              "                                                     [key], {});\n",
              "          if (!dataTable) return;\n",
              "\n",
              "          const docLinkHtml = 'Like what you see? Visit the ' +\n",
              "            '<a target=\"_blank\" href=https://colab.research.google.com/notebooks/data_table.ipynb>data table notebook</a>'\n",
              "            + ' to learn more about interactive tables.';\n",
              "          element.innerHTML = '';\n",
              "          dataTable['output_type'] = 'display_data';\n",
              "          await google.colab.output.renderOutput(dataTable, element);\n",
              "          const docLink = document.createElement('div');\n",
              "          docLink.innerHTML = docLinkHtml;\n",
              "          element.appendChild(docLink);\n",
              "        }\n",
              "      </script>\n",
              "    </div>\n",
              "  </div>\n",
              "  "
            ]
          },
          "metadata": {},
          "execution_count": 17
        }
      ],
      "source": [
        "temp_data"
      ]
    },
    {
      "cell_type": "code",
      "execution_count": 18,
      "metadata": {
        "id": "FDEYyWk8Tqfo",
        "outputId": "cfd52bed-f6e3-4eac-f9e8-ee11a6811918",
        "colab": {
          "base_uri": "https://localhost:8080/",
          "height": 296
        }
      },
      "outputs": [
        {
          "output_type": "execute_result",
          "data": {
            "text/plain": [
              "<matplotlib.axes._subplots.AxesSubplot at 0x7f92337131c0>"
            ]
          },
          "metadata": {},
          "execution_count": 18
        },
        {
          "output_type": "display_data",
          "data": {
            "text/plain": [
              "<Figure size 432x288 with 1 Axes>"
            ],
            "image/png": "[encoded data removed]"
          },
          "metadata": {
            "needs_background": "light"
          }
        }
      ],
      "source": [
        "temp_data.plot(\"Datetime\", \"Hourly_Temp\")"
      ]
    },
    {
      "cell_type": "code",
      "execution_count": 41,
      "metadata": {
        "id": "IViHmmLCTqfo"
      },
      "outputs": [],
      "source": [
        "X_df = pd.DataFrame(list(map(lambda x: datetime.datetime.strptime(x, '%Y-%m-%d %H:%M:%S'), temp_data[\"Datetime\"])))\n",
        "#list(map(lambda x: x.split(\" \"), temp_data[\"Datetime\"]))\n",
        "Y_df = temp_data[\"Hourly_Temp\"]"
      ]
    },
    {
      "cell_type": "code",
      "execution_count": 40,
      "metadata": {
        "id": "-id8eJQxTqfp"
      },
      "outputs": [],
      "source": [
        "X_df_F = list(map(lambda x: (x - X_df[0]), X_df))\n",
        "X_df_S = list(map(lambda x: (x - X_df[0]).seconds, X_df))\n",
        "#X_df_F[:50]"
      ]
    },
    {
      "cell_type": "code",
      "execution_count": 46,
      "metadata": {
        "id": "r9MW4I_1Tqfp"
      },
      "outputs": [],
      "source": []
    },
    {
      "cell_type": "code",
      "execution_count": 22,
      "metadata": {
        "id": "Oz43AYAgTqfp",
        "outputId": "142585f4-70b7-47af-d215-a3b118a02859",
        "colab": {
          "base_uri": "https://localhost:8080/"
        }
      },
      "outputs": [
        {
          "output_type": "stream",
          "name": "stdout",
          "text": [
            "<class 'datetime.datetime'>\n",
            "2022-01-04 00:00:00\n"
          ]
        }
      ],
      "source": [
        "print(type(X_df[0]))\n",
        "print(X_df[0])"
      ]
    },
    {
      "cell_type": "code",
      "execution_count": 23,
      "metadata": {
        "id": "WmElfx1yTqfp",
        "outputId": "3cbf7551-7724-4f62-9a26-56c913a89111",
        "colab": {
          "base_uri": "https://localhost:8080/"
        }
      },
      "outputs": [
        {
          "output_type": "execute_result",
          "data": {
            "text/plain": [
              "7056"
            ]
          },
          "metadata": {},
          "execution_count": 23
        }
      ],
      "source": [
        "len(X_df)"
      ]
    },
    {
      "cell_type": "code",
      "execution_count": 51,
      "metadata": {
        "id": "z-eD_4yUTqfq"
      },
      "outputs": [],
      "source": [
        "chunk_size_D = 24\n",
        "chunk_size_W = 24*7\n",
        "\n",
        "Y_df_D = [Y_df[x:x+chunk_size_D] for x in range(0, len(Y_df), chunk_size_D)]\n",
        "Y_df_W = [Y_df[x:x+chunk_size_W] for x in range(0, len(Y_df), chunk_size_W)]\n",
        "\n",
        "X_df_D = pd.DataFrame([list(range(24))]*int(len(X_df)/24))\n",
        "X_df_W = [list(range(24*7))]*int(len(X_df)/(24*7))\n",
        "X_df_A = pd.DataFrame(list(range(len(X_df))))\n"
      ]
    },
    {
      "cell_type": "code",
      "execution_count": 55,
      "metadata": {
        "id": "_v8TaMweTqfq"
      },
      "outputs": [],
      "source": [
        "Bd = pd.DataFrame()\n",
        "Bd.insert(0, \"time\", X_df_A)"
      ]
    },
    {
      "cell_type": "code",
      "source": [
        "Bd.insert(1, \"temp\", Y_df)"
      ],
      "metadata": {
        "id": "r_YcTlG2M3wA"
      },
      "execution_count": 57,
      "outputs": []
    },
    {
      "cell_type": "code",
      "source": [
        "Bd.plot(\"time\", \"temp\")"
      ],
      "metadata": {
        "colab": {
          "base_uri": "https://localhost:8080/",
          "height": 296
        },
        "id": "ZyuAnKRAQVV3",
        "outputId": "e1bdf9ed-fc94-4cd1-8068-72e43ec2bcd9"
      },
      "execution_count": 65,
      "outputs": [
        {
          "output_type": "execute_result",
          "data": {
            "text/plain": [
              "<matplotlib.axes._subplots.AxesSubplot at 0x7f922aaaccd0>"
            ]
          },
          "metadata": {},
          "execution_count": 65
        },
        {
          "output_type": "display_data",
          "data": {
            "text/plain": [
              "<Figure size 432x288 with 1 Axes>"
            ],
            "image/png": "[encoded data removed]"
          },
          "metadata": {
            "needs_background": "light"
          }
        }
      ]
    },
    {
      "cell_type": "code",
      "execution_count": 61,
      "metadata": {
        "id": "unOJgWnXTqfq",
        "colab": {
          "base_uri": "https://localhost:8080/"
        },
        "outputId": "c494817c-52b5-4ff0-8d22-cbd168e895c2"
      },
      "outputs": [
        {
          "output_type": "stream",
          "name": "stdout",
          "text": [
            "7056 5644 1412\n"
          ]
        }
      ],
      "source": [
        "split = 0.8\n",
        "i_split = int(len(X_df)*split)\n",
        "cols = [\"time\", \"temp\"]\n",
        "data_train = Bd.get(cols).values[:i_split]\n",
        "data_test = Bd.get(cols).values[i_split:]\n",
        "len_train = len(data_train)\n",
        "len_test = len(data_test)\n",
        "print(len(Bd), len_train, len_test)"
      ]
    },
    {
      "cell_type": "code",
      "source": [
        "sequence_length = 50\n",
        "input_dim = 2\n",
        "batch_size = 32\n",
        "epochs = 2"
      ],
      "metadata": {
        "id": "kkmWH8WhNFLH"
      },
      "execution_count": 64,
      "outputs": []
    },
    {
      "cell_type": "code",
      "execution_count": 68,
      "metadata": {
        "id": "FiKqOLffTqfq"
      },
      "outputs": [],
      "source": [
        "model = tf.keras.Sequential([\n",
        "    tf.keras.layers.LSTM(100, input_shape=(sequence_length-1, input_dim), return_sequences=True),\n",
        "    tf.keras.layers.Dropout(.2),\n",
        "    tf.keras.layers.LSTM(100, return_sequences=True),\n",
        "    tf.keras.layers.LSTM(100, return_sequences=False),\n",
        "    tf.keras.layers.Dropout(.2),\n",
        "    tf.keras.layers.Dense(1, activation = \"linear\")\n",
        "])"
      ]
    },
    {
      "cell_type": "code",
      "execution_count": 70,
      "metadata": {
        "id": "ddN_KbM8Tqfr",
        "outputId": "37c94650-d922-488f-cb47-064f0a59ea23",
        "colab": {
          "base_uri": "https://localhost:8080/"
        }
      },
      "outputs": [
        {
          "output_type": "stream",
          "name": "stdout",
          "text": [
            "Model: \"sequential_4\"\n",
            "_________________________________________________________________\n",
            " Layer (type)                Output Shape              Param #   \n",
            "=================================================================\n",
            " lstm_7 (LSTM)               (None, 49, 100)           41200     \n",
            "                                                                 \n",
            " dropout_2 (Dropout)         (None, 49, 100)           0         \n",
            "                                                                 \n",
            " lstm_8 (LSTM)               (None, 49, 100)           80400     \n",
            "                                                                 \n",
            " lstm_9 (LSTM)               (None, 100)               80400     \n",
            "                                                                 \n",
            " dropout_3 (Dropout)         (None, 100)               0         \n",
            "                                                                 \n",
            " dense_3 (Dense)             (None, 1)                 101       \n",
            "                                                                 \n",
            "=================================================================\n",
            "Total params: 202,101\n",
            "Trainable params: 202,101\n",
            "Non-trainable params: 0\n",
            "_________________________________________________________________\n"
          ]
        }
      ],
      "source": [
        "model.summary()"
      ]
    },
    {
      "cell_type": "code",
      "execution_count": 71,
      "metadata": {
        "id": "C37jWI5fTqfr",
        "colab": {
          "base_uri": "https://localhost:8080/",
          "height": 754
        },
        "outputId": "840ee8da-fe4a-4798-fdf3-1848616bf551"
      },
      "outputs": [
        {
          "output_type": "execute_result",
          "data": {
            "image/png": "[encoded data removed]",
            "text/plain": [
              "<IPython.core.display.Image object>"
            ]
          },
          "metadata": {},
          "execution_count": 71
        }
      ],
      "source": [
        "tf.keras.utils.plot_model(model, \"multi_input_and_output_model.png\", show_shapes=True)"
      ]
    },
    {
      "cell_type": "code",
      "execution_count": 73,
      "metadata": {
        "id": "3y2knxNeTqfr"
      },
      "outputs": [],
      "source": [
        "model.compile(optimizer='adam',\n",
        "              loss=tf.keras.losses.MeanSquaredError(),\n",
        "              metrics=['accuracy'])"
      ]
    },
    {
      "cell_type": "code",
      "source": [
        "def normalise_windows(window_data, single_window=False):\n",
        "  normalised_data = []\n",
        "  window_data = [window_data] if single_window else window_data\n",
        "  for window in window_data:\n",
        "    normalised_window = []\n",
        "    for col_i in range(window.shape[1]):\n",
        "      if col_i == 1:\n",
        "        normalised_col = [((float(p)/float(window[0, col_i])) - 1) for p in window[:, col_i]]\n",
        "      elif col_i == 0:\n",
        "        normalised_col = [float(p-window[0,0]) for p in window[:, col_i]]\n",
        "      normalised_window.append(normalised_col)\n",
        "    normalised_window = np.array(normalised_window).T\n",
        "    normalised_data.append(normalised_window)\n",
        "  return np.array(normalised_data)"
      ],
      "metadata": {
        "id": "lTnXNnteR5sy"
      },
      "execution_count": 157,
      "outputs": []
    },
    {
      "cell_type": "code",
      "source": [
        "def _next_window(i, seq_len, normalise):\n",
        "  window = data_train[i:i+seq_len]\n",
        "  window = normalise_windows(window, single_window=True)[0] if normalise else window\n",
        "  x = window[:-1]\n",
        "  y = window[-1, [0]]\n",
        "  return x, y"
      ],
      "metadata": {
        "id": "g4Jve44AW4Og"
      },
      "execution_count": 158,
      "outputs": []
    },
    {
      "cell_type": "code",
      "source": [
        "def get_train_data(seq_len, normalise):\n",
        "  data_x = []\n",
        "  data_y = []\n",
        "  for i in range(len_train - seq_len + 1):\n",
        "    x, y = _next_window(i, seq_len, normalise)\n",
        "    data_x.append(x)\n",
        "    data_y.append(y)\n",
        "  return np.array(data_x), np.array(data_y)"
      ],
      "metadata": {
        "id": "fLoU31uWYe8q"
      },
      "execution_count": 159,
      "outputs": []
    },
    {
      "cell_type": "code",
      "source": [
        "x, y = get_train_data(\n",
        "    seq_len = sequence_length,\n",
        "    normalise = True\n",
        ")"
      ],
      "metadata": {
        "id": "kEsofVDjZOAF"
      },
      "execution_count": 160,
      "outputs": []
    },
    {
      "cell_type": "code",
      "source": [],
      "metadata": {
        "id": "278bbsBFZbxR"
      },
      "execution_count": 160,
      "outputs": []
    },
    {
      "cell_type": "code",
      "source": [
        "import math\n",
        "\n",
        "steps_per_epoch = math.ceil((len_train - sequence_length)/batch_size)\n",
        "print(steps_per_epoch)"
      ],
      "metadata": {
        "colab": {
          "base_uri": "https://localhost:8080/"
        },
        "id": "iM5o1SIdfBI7",
        "outputId": "42052ec8-ded6-4988-ca16-9847a5a67375"
      },
      "execution_count": 161,
      "outputs": [
        {
          "output_type": "stream",
          "name": "stdout",
          "text": [
            "175\n"
          ]
        }
      ]
    },
    {
      "cell_type": "code",
      "source": [
        "batch_size = 32"
      ],
      "metadata": {
        "id": "ZUEghi0zfXLC"
      },
      "execution_count": 162,
      "outputs": []
    },
    {
      "cell_type": "code",
      "source": [
        "from keras.callbacks import EarlyStopping\n",
        "callbacks = [EarlyStopping(monitor=\"val_loss\", patience=2)]"
      ],
      "metadata": {
        "id": "IvGpcE6_fvLY"
      },
      "execution_count": 163,
      "outputs": []
    },
    {
      "cell_type": "code",
      "source": [
        "callbacks = [EarlyStopping(monitor=\"accuracy\", patience=2)]"
      ],
      "metadata": {
        "id": "uam1FgzQgAu9"
      },
      "execution_count": 164,
      "outputs": []
    },
    {
      "cell_type": "code",
      "source": [
        "model.fit(x, y, epochs=epochs, batch_size = batch_size, callbacks =  callbacks)"
      ],
      "metadata": {
        "colab": {
          "base_uri": "https://localhost:8080/"
        },
        "id": "wSng4VijgEEZ",
        "outputId": "5741c87c-204a-4405-a544-6ecf58f9fe9f"
      },
      "execution_count": 165,
      "outputs": [
        {
          "output_type": "stream",
          "name": "stdout",
          "text": [
            "Epoch 1/2\n",
            "175/175 [==============================] - 14s 78ms/step - loss: 7.0234 - accuracy: 0.0000e+00\n",
            "Epoch 2/2\n",
            "175/175 [==============================] - 13s 76ms/step - loss: 6.8691 - accuracy: 0.0000e+00\n"
          ]
        },
        {
          "output_type": "execute_result",
          "data": {
            "text/plain": [
              "<keras.callbacks.History at 0x7f928ff4ff10>"
            ]
          },
          "metadata": {},
          "execution_count": 165
        }
      ]
    },
    {
      "cell_type": "code",
      "source": [
        "def get_test_data(seq_len, normalise):\n",
        "  data_windows = []\n",
        "  for i in range(len_test - seq_len):\n",
        "    data_windows.append(data_test[i:i+seq_len])\n",
        "\n",
        "  data_windows = np.array(data_windows).astype(float)\n",
        "  data_windows = normalise_windows(data_windows, single_window = False) if normalise else data_windows\n",
        "\n",
        "  x = data_windows[:,:-1]\n",
        "  y = data_windows[:, -1, [0]]\n",
        "  return x, y"
      ],
      "metadata": {
        "id": "ifckkUb0gVGN"
      },
      "execution_count": 166,
      "outputs": []
    },
    {
      "cell_type": "code",
      "source": [
        "x_test, y_test = get_test_data(\n",
        "    seq_len = sequence_length,\n",
        "    normalise = True\n",
        ")\n",
        "x_test[:, 1, 0]"
      ],
      "metadata": {
        "colab": {
          "base_uri": "https://localhost:8080/"
        },
        "id": "r4lyY6K0ifc5",
        "outputId": "2e80905d-5c7e-4e36-cb87-637f83693e4c"
      },
      "execution_count": 169,
      "outputs": [
        {
          "output_type": "execute_result",
          "data": {
            "text/plain": [
              "array([1., 1., 1., ..., 1., 1., 1.])"
            ]
          },
          "metadata": {},
          "execution_count": 169
        }
      ]
    },
    {
      "cell_type": "code",
      "source": [
        "model.evaluate(x_test, y_test, verbose = 2)"
      ],
      "metadata": {
        "colab": {
          "base_uri": "https://localhost:8080/"
        },
        "id": "nV5cqJb4irpp",
        "outputId": "4fd8ad5c-8e59-48f7-83bc-5cb0bf67ddcc"
      },
      "execution_count": 168,
      "outputs": [
        {
          "output_type": "stream",
          "name": "stdout",
          "text": [
            "43/43 - 1s - loss: 0.9432 - accuracy: 0.0000e+00 - 928ms/epoch - 22ms/step\n"
          ]
        },
        {
          "output_type": "execute_result",
          "data": {
            "text/plain": [
              "[0.9431835412979126, 0.0]"
            ]
          },
          "metadata": {},
          "execution_count": 168
        }
      ]
    },
    {
      "cell_type": "code",
      "source": [
        "def get_last_data(seq_len, normalise):\n",
        "  last_data = data_test[seq_len:]\n",
        "  data_windows = np.array(last_data).astype(float)\n",
        "  data_windows = normalise_windows(data_windows, single_window=True) if normalise else data_windows\n",
        "  return data_windows"
      ],
      "metadata": {
        "id": "uOL8CQ79mn_X"
      },
      "execution_count": 176,
      "outputs": []
    },
    {
      "cell_type": "code",
      "source": [
        "last_data = get_last_data(-(sequence_length-1), False)\n",
        "pre_first = last_data[0][0]\n",
        "last_data = get_last_data(-(sequence_length-1), True)\n"
      ],
      "metadata": {
        "id": "v_4EQTp8jXkx"
      },
      "execution_count": 184,
      "outputs": []
    },
    {
      "cell_type": "code",
      "source": [
        "last_data"
      ],
      "metadata": {
        "colab": {
          "base_uri": "https://localhost:8080/"
        },
        "id": "0OgSEAE3kKth",
        "outputId": "67d22813-de16-4819-9c07-d9cb8a7cf9bc"
      },
      "execution_count": 192,
      "outputs": [
        {
          "output_type": "execute_result",
          "data": {
            "text/plain": [
              "array([[[ 0.00000000e+00,  0.00000000e+00],\n",
              "        [ 1.00000000e+00, -2.82107532e-02],\n",
              "        [ 2.00000000e+00, -5.13027749e-02],\n",
              "        [ 3.00000000e+00, -7.43947966e-02],\n",
              "        [ 4.00000000e+00, -9.42924220e-02],\n",
              "        [ 5.00000000e+00, -1.13150906e-01],\n",
              "        [ 6.00000000e+00, -1.28661048e-01],\n",
              "        [ 7.00000000e+00, -1.44325136e-01],\n",
              "        [ 8.00000000e+00, -1.57141208e-01],\n",
              "        [ 9.00000000e+00, -1.64184274e-01],\n",
              "        [ 1.00000000e+01, -1.53946811e-01],\n",
              "        [ 1.10000000e+01, -1.28930455e-01],\n",
              "        [ 1.20000000e+01, -9.04437517e-02],\n",
              "        [ 1.30000000e+01, -5.39968441e-02],\n",
              "        [ 1.40000000e+01, -2.94808144e-02],\n",
              "        [ 1.50000000e+01,  1.15460109e-04],\n",
              "        [ 1.60000000e+01,  2.63249047e-02],\n",
              "        [ 1.70000000e+01,  4.49139822e-02],\n",
              "        [ 1.80000000e+01,  4.14501790e-02],\n",
              "        [ 1.90000000e+01,  2.44005696e-02],\n",
              "        [ 2.00000000e+01, -4.46445753e-03],\n",
              "        [ 2.10000000e+01, -2.47469499e-02],\n",
              "        [ 2.20000000e+01, -3.84867028e-02],\n",
              "        [ 2.30000000e+01, -6.41188469e-02],\n",
              "        [ 2.40000000e+01, -8.47862064e-02],\n",
              "        [ 2.50000000e+01, -8.84039564e-02],\n",
              "        [ 2.60000000e+01, -9.49082092e-02],\n",
              "        [ 2.70000000e+01, -1.03914098e-01],\n",
              "        [ 2.80000000e+01, -1.14805835e-01],\n",
              "        [ 2.90000000e+01, -1.27121579e-01],\n",
              "        [ 3.00000000e+01, -1.40476465e-01],\n",
              "        [ 3.10000000e+01, -1.54562599e-01],\n",
              "        [ 3.20000000e+01, -1.65492822e-01],\n",
              "        [ 3.30000000e+01, -1.66108609e-01],\n",
              "        [ 3.40000000e+01, -1.60989878e-01],\n",
              "        [ 3.50000000e+01, -1.43670862e-01],\n",
              "        [ 3.60000000e+01, -1.12227225e-01],\n",
              "        [ 3.70000000e+01, -7.63191317e-02],\n",
              "        [ 3.80000000e+01, -4.81083786e-02],\n",
              "        [ 3.90000000e+01, -1.91278913e-02],\n",
              "        [ 4.00000000e+01,  7.69734057e-03],\n",
              "        [ 4.10000000e+01,  2.69406920e-02],\n",
              "        [ 4.20000000e+01,  2.18219605e-02],\n",
              "        [ 4.30000000e+01,  6.81214640e-03],\n",
              "        [ 4.40000000e+01, -1.60104684e-02],\n",
              "        [ 4.50000000e+01, -3.07893623e-02],\n",
              "        [ 4.60000000e+01, -5.32271100e-02],\n",
              "        [ 4.70000000e+01, -7.68579456e-02],\n",
              "        [ 4.80000000e+01, -1.00065427e-01]]])"
            ]
          },
          "metadata": {},
          "execution_count": 192
        }
      ]
    },
    {
      "cell_type": "code",
      "source": [
        "predict = model.predict(last_data)\n",
        "print(predict, predict[0][0])"
      ],
      "metadata": {
        "colab": {
          "base_uri": "https://localhost:8080/"
        },
        "id": "c6aqYgcHxgKP",
        "outputId": "60b18848-4ad8-4fb6-c08f-e0bd4df8d215"
      },
      "execution_count": 193,
      "outputs": [
        {
          "output_type": "stream",
          "name": "stdout",
          "text": [
            "1/1 [==============================] - 0s 34ms/step\n",
            "[[48.028824]] 48.028824\n"
          ]
        }
      ]
    },
    {
      "cell_type": "code",
      "source": [
        "def de_norm(pre, _data):\n",
        "  return (_data -1)*pre"
      ],
      "metadata": {
        "id": "5OJ2LjUeyKas"
      },
      "execution_count": 194,
      "outputs": []
    },
    {
      "cell_type": "code",
      "source": [
        "pred_pre = de_norm(pre_first, predict[0][0])\n",
        "pred_pre"
      ],
      "metadata": {
        "colab": {
          "base_uri": "https://localhost:8080/"
        },
        "id": "Tk50Y--XyXHc",
        "outputId": "f9c33dc1-14ae-46dc-a907-723f7d6f0b33"
      },
      "execution_count": 195,
      "outputs": [
        {
          "output_type": "execute_result",
          "data": {
            "text/plain": [
              "329530.9687347412"
            ]
          },
          "metadata": {},
          "execution_count": 195
        }
      ]
    },
    {
      "cell_type": "code",
      "source": [],
      "metadata": {
        "id": "aXTyrUcUy-R0"
      },
      "execution_count": null,
      "outputs": []
    }
  ],
  "metadata": {
    "kernelspec": {
      "display_name": "Python 3",
      "language": "python",
      "name": "python3"
    },
    "language_info": {
      "codemirror_mode": {
        "name": "ipython",
        "version": 3
      },
      "file_extension": ".py",
      "mimetype": "text/x-python",
      "name": "python",
      "nbconvert_exporter": "python",
      "pygments_lexer": "ipython3",
      "version": "3.8.5"
    },
    "colab": {
      "provenance": []
    }
  },
  "nbformat": 4,
  "nbformat_minor": 0
}
